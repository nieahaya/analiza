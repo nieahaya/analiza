{
 "cells": [
  {
   "cell_type": "markdown",
   "metadata": {},
   "source": [
    "**Singleton:**  \n",
    "Zapewnia, że istnieje tylko jedna instancja danej klasy, i dostarcza globalny punkt dostępu do\n",
    "niej."
   ]
  },
  {
   "cell_type": "code",
   "execution_count": null,
   "metadata": {},
   "outputs": [],
   "source": [
    "#przykład implementacji:\n",
    "\n",
    "class Singleton:\n",
    "    _instance = None\n",
    "\n",
    "    def __new__(cls):\n",
    "        if not cls._instance:\n",
    "            cls._instance = super(Singleton, cls).__new__(cls)\n",
    "        return cls._instance\n",
    "\n",
    "# Przykład użycia\n",
    "obj1 = Singleton()\n",
    "obj2 = Singleton()\n",
    "\n",
    "print(obj1 is obj2)  # True"
   ]
  },
  {
   "cell_type": "markdown",
   "metadata": {},
   "source": [
    "**Factory Method (Metoda Fabryczna):**  \n",
    "Zapewnia interfejs do tworzenia instancji obiektów, ale pozostawia konkretne klasy do\n",
    "wyboru podklasom."
   ]
  },
  {
   "cell_type": "code",
   "execution_count": null,
   "metadata": {},
   "outputs": [],
   "source": [
    "#przykład implementacji:\n",
    "\n",
    "from abc import ABC, abstractmethod\n",
    "\n",
    "class Product(ABC):\n",
    "    @abstractmethod\n",
    "    def create(self):\n",
    "        pass\n",
    "\n",
    "class ConcreteProduct(Product):\n",
    "    def create(self):\n",
    "        return \"ConcreteProduct\"\n",
    "\n",
    "class Creator(ABC):\n",
    "    @abstractmethod\n",
    "    def factory_method(self):\n",
    "        pass\n",
    "\n",
    "    def get_product(self):\n",
    "        return self.factory_method()\n",
    "\n",
    "class ConcreteCreator(Creator):\n",
    "    def factory_method(self, type):\n",
    "        return ConcreteProduct()\n",
    "\n",
    "# Przykład użycia\n",
    "creator = ConcreteCreator()\n",
    "product = creator.get_product()\n",
    "print(product.create())  # ConcreteProduct"
   ]
  },
  {
   "cell_type": "markdown",
   "metadata": {},
   "source": [
    "**Observer (Obserwator):**  \n",
    "Definiuje zależność jeden do wielu między obiektami, tak że jeśli jeden obiekt zmienia stan,\n",
    "wszyscy jego zależni są powiadamiani i aktualizowani automatycznie."
   ]
  },
  {
   "cell_type": "code",
   "execution_count": null,
   "metadata": {},
   "outputs": [],
   "source": [
    "#przykład implementacji:\n",
    "\n",
    "class Subject:\n",
    "    def __init__(self):\n",
    "        self._observers = []\n",
    "\n",
    "    def add_observer(self, observer):\n",
    "        self._observers.append(observer)\n",
    "\n",
    "    def remove_observer(self, observer):\n",
    "        self._observers.remove(observer)\n",
    "\n",
    "    def notify_observers(self, data):\n",
    "        for observer in self._observers:\n",
    "            observer.update(data)\n",
    "\n",
    "class Observer:\n",
    "    def update(self, data):\n",
    "        print(f\"Received data: {data}\")\n",
    "\n",
    "# Przykład użycia\n",
    "subject = Subject()\n",
    "observer1 = Observer()\n",
    "observer2 = Observer()\n",
    "\n",
    "subject.add_observer(observer1)\n",
    "subject.add_observer(observer2)\n",
    "\n",
    "subject.notify_observers(\"Hello!\")"
   ]
  },
  {
   "cell_type": "markdown",
   "metadata": {},
   "source": [
    "**Strategy (Strategia):**  \n",
    "Definiuje rodzinę algorytmów, enkapsuluje każdy z nich i sprawia, że są one zamienne.\n",
    "Umożliwia klientowi wybór odpowiedniego algorytmu w trakcie działania programu."
   ]
  }
 ],
 "metadata": {
  "language_info": {
   "name": "python"
  }
 },
 "nbformat": 4,
 "nbformat_minor": 2
}
