{
 "cells": [
  {
   "cell_type": "markdown",
   "id": "2733f614",
   "metadata": {},
   "source": [
    "1. importy"
   ]
  },
  {
   "cell_type": "code",
   "execution_count": null,
   "id": "9fdfa79e",
   "metadata": {},
   "outputs": [],
   "source": [
    "#zawsze:\n",
    "from sklearn.model_selection import train_test_split\n",
    "from sklearn.neighbors import KNeighborsClassifier\n",
    "from sklearn.metrics import confusion_matrix\n",
    "#+ któryś z tych\n",
    "import numpy as np\n",
    "import matplotlib.pyplot as plt\n",
    "import pandas as pd \n",
    "\n",
    "#inne:\n",
    "from sklearn.metrics import accuracy_score, ConfusionMatrixDisplay\n",
    "from sklearn.inspection import DecisionBoundaryDisplay\n",
    "from sklearn.preprocessing import MinMaxScaler\n",
    "from sklearn.metrics import classification_report"
   ]
  },
  {
   "cell_type": "markdown",
   "id": "34102b7f",
   "metadata": {},
   "source": [
    "2. załadowanie danych"
   ]
  },
  {
   "cell_type": "code",
   "execution_count": null,
   "id": "36724545",
   "metadata": {},
   "outputs": [],
   "source": [
    "#wbudowane zbiory danych:\n",
    "from sklearn.datasets import load_iris\n",
    "iris = load_iris()\n",
    "\n",
    "#plik lokalny:\n",
    "df = pd.read_csv('...')\n",
    "\n",
    "#manipulacja plikiem:\n",
    "df = df.drop(columns = ['...'])\n",
    "\n",
    "#wyznaczanie X, y:\n",
    "# - X - macierz przydatnych cech obiektu\n",
    "# - y - wektor etykiet, obiekt, który przewidujemy na podstawie cech, np. (klasyfikacja) gatunek, kategoria, (regresja)  cena, temperatura\n",
    "\n",
    "X = iris.data\n",
    "y = iris.target\n",
    "\n",
    "X = df.iloc[:, 0:13] #wiersze, pierwsze 13 kolumn\n",
    "y = df.iloc[:13] #14 kolumna"
   ]
  },
  {
   "cell_type": "markdown",
   "id": "69d1cc9d",
   "metadata": {},
   "source": [
    "3. podział na zbiór uczący i testowy"
   ]
  },
  {
   "cell_type": "code",
   "execution_count": null,
   "id": "5a312287",
   "metadata": {},
   "outputs": [],
   "source": [
    "X_train, X_test, y_train, y_test = train_test_split(X, y, test_size=0.3, random_state=42)\n",
    "#42 bo to nawiązanie do The Hitchhiker's Guide to the Galaxy i guess?"
   ]
  },
  {
   "cell_type": "markdown",
   "id": "b82b050e",
   "metadata": {},
   "source": [
    "4. przygotowanie danych (preprocessing)"
   ]
  },
  {
   "cell_type": "code",
   "execution_count": null,
   "id": "22b20160",
   "metadata": {},
   "outputs": [],
   "source": [
    "# 1. czyszczenie danych:\n",
    "df.dropna()\n",
    "df.fillna(\"value\")\n",
    "df.drop_duplicates()\n",
    "#korekta lub usunięcie nietypowych/nieprawidłowych wartości, np. ujemny wiek, błędny format daty.\n",
    "#konwersja typów danych, np:\n",
    "df['data'] = pd.to_datetime(df['data'])\n",
    "\n",
    "#2. skalowanie cech\n",
    "scaler = MinMaxScaler()\n",
    "X_train = scaler.transform(X_train)\n",
    "X_test = scaler.transform(X_test) \n",
    "#skalowanie wartości liczbowych od 0 do 1, przydatne gdy część cech ma małe wartości a inne są w tysiącach"
   ]
  },
  {
   "cell_type": "markdown",
   "id": "e8f46c3a",
   "metadata": {},
   "source": [
    "5. szukanie najlepszego N"
   ]
  },
  {
   "cell_type": "code",
   "execution_count": null,
   "id": "6e84281d",
   "metadata": {},
   "outputs": [],
   "source": [
    "accuracies = []\n",
    "neighbors = range(3, 21)\n",
    "\n",
    "for n in neighbors: \n",
    "    model = KNeighborsClassifier(n_neighbors=n)\n",
    "    model.fit(X_train, y_train)\n",
    "    y_pred = model.predict(X_test)\n",
    "    acc = accuracy_score(y_test, y_pred)\n",
    "    accuracies.append(acc)\n",
    "\n",
    "# Wykres dokładności vs liczba sąsiadów\n",
    "plt.plot(neighbors, accuracies, marker='o')\n",
    "plt.title('Dokładność vs liczba sąsiadów')\n",
    "plt.xlabel('Liczba sąsiadów (N)')\n",
    "plt.ylabel('Dokładność')\n",
    "plt.grid(True)\n",
    "plt.show()\n",
    "\n",
    "best_n = neighbors[np.argmax(accuracies)]\n",
    "print(f'Najlepsza dokładność przy N = {best_n}')"
   ]
  },
  {
   "cell_type": "markdown",
   "id": "18e0bb13",
   "metadata": {},
   "source": [
    "6. trenowanie modelu na najlepszym n"
   ]
  },
  {
   "cell_type": "code",
   "execution_count": null,
   "id": "af9e4bd3",
   "metadata": {},
   "outputs": [],
   "source": [
    "model = KNeighborsClassifier(n_neighbors=best_n)\n",
    "model.fit(X_train, y_train)\n",
    "y_pred = model.predict(X_test)"
   ]
  },
  {
   "cell_type": "markdown",
   "id": "c2ceb6dd",
   "metadata": {},
   "source": [
    "7. macierz konfuzji\n",
    "\n",
    "Macierz pomyłek (confusion matrix) to narzędzie służące do oceny jakości klasyfikatora – pokazuje, ile razy model poprawnie i błędnie klasyfikował dane.\n",
    "\n",
    "                    Predykcja\n",
    "                   0       1\n",
    "                ┌──────────────┐\n",
    "            0   │  TN    FP    │\n",
    "    Prawda      │              │\n",
    "            1   │  FN    TP    │\n",
    "                └──────────────┘\n",
    "\n",
    "- TP (True Positive) – model przewidział 1, a prawda to 1\n",
    "- TN (True Negative) – model przewidział 0, a prawda to 0\n",
    "- FP (False Positive) – model przewidział 1, ale prawda to 0 (błąd typu I)\n",
    "- FN (False Negative) – model przewidział 0, ale prawda to 1 (błąd typu II)"
   ]
  },
  {
   "cell_type": "code",
   "execution_count": null,
   "id": "d8b516ac",
   "metadata": {},
   "outputs": [],
   "source": [
    "cm = confusion_matrix(y_test, y_pred)\n",
    "print(cm)"
   ]
  },
  {
   "cell_type": "markdown",
   "id": "c6c0bd14",
   "metadata": {},
   "source": [
    "8. pozostała klasyfikacja i wizualizacje"
   ]
  },
  {
   "cell_type": "code",
   "execution_count": null,
   "id": "482d9041",
   "metadata": {},
   "outputs": [],
   "source": [
    "#classification_report\n",
    "#szczegółowe podsumowanie skuteczności klasyfikatora\n",
    "\n",
    "cr = classification_report(y_test, y_pred)\n",
    "print(cr)\n",
    "\n",
    "#granica decyzyjna"
   ]
  }
 ],
 "metadata": {
  "kernelspec": {
   "display_name": "Python 3",
   "language": "python",
   "name": "python3"
  },
  "language_info": {
   "codemirror_mode": {
    "name": "ipython",
    "version": 3
   },
   "file_extension": ".py",
   "mimetype": "text/x-python",
   "name": "python",
   "nbconvert_exporter": "python",
   "pygments_lexer": "ipython3",
   "version": "3.13.0"
  }
 },
 "nbformat": 4,
 "nbformat_minor": 5
}
